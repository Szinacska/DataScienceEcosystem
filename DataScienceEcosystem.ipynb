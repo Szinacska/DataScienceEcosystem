{
 "cells": [
  {
   "cell_type": "markdown",
   "id": "a2e7dea6-9eeb-449e-81b9-c2c09f0c98cf",
   "metadata": {},
   "source": [
    "Some of the popular languages that Data Scientists use are:"
   ]
  },
  {
   "cell_type": "markdown",
   "id": "da8e5a99-aa10-449b-8efa-4a8f3f6c2990",
   "metadata": {},
   "source": [
    "# Data Science Tools and Ecosystem"
   ]
  },
  {
   "cell_type": "markdown",
   "id": "9e4bcca7-2f75-42ce-a6e7-088a5f12fbbf",
   "metadata": {},
   "source": [
    "In this notebook, Data Science Tools and Ecosystem are summarized."
   ]
  },
  {
   "cell_type": "markdown",
   "id": "26bdff8b-e84f-45c9-9246-703819e74d8d",
   "metadata": {},
   "source": [
    "**Objectives:**\n",
    "\n",
    "+ List popular languages for Data Science.\n",
    "+ Explore commonly used libraries in Data Science.\n",
    "+ Understand tools used in the Data Science ecosystem.\n",
    "+ Perform arithmetic operations using Python.\n",
    "+ Convert units, such as minutes to hours, using Python code."
   ]
  },
  {
   "cell_type": "markdown",
   "id": "3a4cd884-3124-4df4-9cf7-a785f2aa3378",
   "metadata": {},
   "source": [
    "1. R \n",
    "2. Python\n",
    "3. Java "
   ]
  },
  {
   "cell_type": "markdown",
   "id": "37c3a2b6-32ad-445c-9a6b-728be9339884",
   "metadata": {},
   "source": [
    "Some of the commonly used libraries used by Data Scientists include:\n",
    "* Numpy\n",
    "* Pandas\n",
    "* Matplotlip"
   ]
  },
  {
   "cell_type": "markdown",
   "id": "b6456c79-d327-4575-93f0-01c1a30ce924",
   "metadata": {},
   "source": [
    "| Data Science Tools       |\n",
    "|--------------------------|\n",
    "| Jupyter Notebook         |\n",
    "| RStudio                  |\n",
    "| Spyder                   |"
   ]
  },
  {
   "cell_type": "markdown",
   "id": "77a33992-9245-40c7-a11c-496c4e74305c",
   "metadata": {},
   "source": [
    "### Below are a few examples of evaluating arithmetic expressions in Python"
   ]
  },
  {
   "cell_type": "code",
   "execution_count": 40,
   "id": "41af4230-0a70-43d4-9e9a-ff3605e91552",
   "metadata": {},
   "outputs": [
    {
     "data": {
      "text/plain": [
       "17"
      ]
     },
     "execution_count": 40,
     "metadata": {},
     "output_type": "execute_result"
    }
   ],
   "source": [
    "# This is a simple arithmetic expression to multiply then add integers\n",
    "(3 * 4) + 5\n"
   ]
  },
  {
   "cell_type": "code",
   "execution_count": 42,
   "id": "33bd5747-ab29-46e4-85b1-8fdcc3c6fd8d",
   "metadata": {},
   "outputs": [
    {
     "data": {
      "text/plain": [
       "3.3333333333333335"
      ]
     },
     "execution_count": 42,
     "metadata": {},
     "output_type": "execute_result"
    }
   ],
   "source": [
    "# This will convert 200 minutes to hours by diving by 60\n",
    "200 / 60"
   ]
  },
  {
   "cell_type": "markdown",
   "id": "ec6be1d3-899e-443f-b4d5-2e2bf92b562b",
   "metadata": {},
   "source": [
    "## Author\n",
    "[Sina]"
   ]
  },
  {
   "cell_type": "code",
   "execution_count": null,
   "id": "7c39e309-2d46-4f3f-afbe-9c37ee559101",
   "metadata": {},
   "outputs": [],
   "source": []
  }
 ],
 "metadata": {
  "kernelspec": {
   "display_name": "Python 3 (ipykernel)",
   "language": "python",
   "name": "python3"
  },
  "language_info": {
   "codemirror_mode": {
    "name": "ipython",
    "version": 3
   },
   "file_extension": ".py",
   "mimetype": "text/x-python",
   "name": "python",
   "nbconvert_exporter": "python",
   "pygments_lexer": "ipython3",
   "version": "3.12.7"
  }
 },
 "nbformat": 4,
 "nbformat_minor": 5
}
